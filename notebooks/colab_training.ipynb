{
 "cells": [
  {
   "cell_type": "markdown",
   "metadata": {
    "colab_type": "text",
    "id": "AN_HC2vFX4hz"
   },
   "source": [
    "# Environment Preparation"
   ]
  },
  {
   "cell_type": "code",
   "execution_count": null,
   "metadata": {
    "colab": {
     "base_uri": "https://localhost:8080/",
     "height": 1210
    },
    "colab_type": "code",
    "id": "htd6MBxqXuvp",
    "outputId": "b488faef-ad2d-49d7-99c7-3a6d09511b6e"
   },
   "outputs": [],
   "source": [
    "!git clone --quiet https://github.com/Az4z3l/CarND-Traffic-Light-Detection.git tfd\n",
    "  \n",
    "!cp -r tfd/config config\n",
    "\n",
    "!git clone --quiet https://github.com/tensorflow/models.git tf_models\n",
    "  \n",
    "!cp -r tf_models/research/object_detection object_detection/\n",
    "\n",
    "!cp -r tf_models/research/slim slim/\n",
    "\n",
    "!cp tfd/model_main.py object_detection/model_main.py\n",
    "\n",
    "!rm -rf tfd\n",
    "\n",
    "!rm -rf tf_models\n",
    "\n",
    "!apt-get install -qq protobuf-compiler python-tk\n",
    "\n",
    "!pip install -q Cython contextlib2 pillow lxml matplotlib PyDrive\n",
    "\n",
    "!pip install -q pycocotools\n",
    "\n",
    "!git clone https://github.com/cocodataset/cocoapi.git\n",
    "\n",
    "%cd cocoapi/PythonAPI\n",
    "\n",
    "!make\n",
    "\n",
    "%cd /content\n",
    "\n",
    "!cp -r cocoapi/PythonAPI/pycocotools pycocotools/\n",
    "\n",
    "!rm -rf cocoapi\n",
    "\n",
    "!protoc object_detection/protos/*.proto --python_out=.\n",
    "\n",
    "%set_env PYTHONPATH=/content:/content/slim"
   ]
  },
  {
   "cell_type": "markdown",
   "metadata": {
    "colab_type": "text",
    "id": "nJEKqqeSfy1o"
   },
   "source": [
    "# Testing Installation"
   ]
  },
  {
   "cell_type": "code",
   "execution_count": null,
   "metadata": {
    "colab": {
     "base_uri": "https://localhost:8080/",
     "height": 102
    },
    "colab_type": "code",
    "id": "dftvdBPHZjn4",
    "outputId": "b019003f-8099-4a67-f101-e3b4a5b3dc66"
   },
   "outputs": [],
   "source": [
    "!python object_detection/builders/model_builder_test.py"
   ]
  },
  {
   "cell_type": "markdown",
   "metadata": {
    "colab_type": "text",
    "id": "uWZZddD1f4fT"
   },
   "source": [
    "# Download Dataset\n",
    "\n",
    "The ids are the training and evaluation tf record files."
   ]
  },
  {
   "cell_type": "code",
   "execution_count": null,
   "metadata": {
    "colab": {},
    "colab_type": "code",
    "id": "v1OlW_3Uf6QB"
   },
   "outputs": [],
   "source": [
    "import os\n",
    "from zipfile import ZipFile\n",
    "from shutil import copy\n",
    "from pydrive.auth import GoogleAuth\n",
    "from pydrive.drive import GoogleDrive\n",
    "from google.colab import auth\n",
    "from oauth2client.client import GoogleCredentials\n",
    "\n",
    "auth.authenticate_user()\n",
    "gauth = GoogleAuth()\n",
    "gauth.credentials = GoogleCredentials.get_application_default()\n",
    "drive = GoogleDrive(gauth)\n",
    "\n",
    "train_file_id = '1S1KDLCS2ZVhJtb-cFUtpWTs5U2sR0oMT'\n",
    "eval_file_id = '1pwOAFH0CUnXAykS91XsCBI846HJiauqw'\n",
    "\n",
    "data_dir = 'data'\n",
    "\n",
    "if not os.path.isdir(data_dir):\n",
    "  os.makedirs(data_dir)\n",
    "\n",
    "downloaded = drive.CreateFile({'id': train_file_id})\n",
    "downloaded.GetContentFile(os.path.join(data_dir, 'mixed_train.record'))\n",
    "\n",
    "downloaded = drive.CreateFile({'id': eval_file_id})\n",
    "downloaded.GetContentFile(os.path.join(data_dir, 'mixed_eval.record'))"
   ]
  },
  {
   "cell_type": "markdown",
   "metadata": {
    "colab_type": "text",
    "id": "jTQdk2zamhAh"
   },
   "source": [
    "# Download Pre-Trained Models"
   ]
  },
  {
   "cell_type": "code",
   "execution_count": null,
   "metadata": {
    "colab": {},
    "colab_type": "code",
    "id": "w2mkdZ8uhIWk"
   },
   "outputs": [],
   "source": [
    "import urllib.request\n",
    "import tarfile\n",
    "\n",
    "MODEL_NAME = 'ssd_mobilenet_v1_coco_2018_01_28'\n",
    "MODEL_FILE = MODEL_NAME + '.tar.gz'\n",
    "MODEL_URL = 'http://download.tensorflow.org/models/object_detection/' + MODEL_FILE\n",
    "\n",
    "MODELS_DIR = 'models'\n",
    "\n",
    "if not os.path.isdir(MODELS_DIR):\n",
    "  os.makedirs(MODELS_DIR)\n",
    "\n",
    "if not os.path.exists(MODEL_FILE):\n",
    "  urllib.request.urlretrieve(MODEL_URL, MODEL_FILE)\n",
    "\n",
    "tar = tarfile.open(MODEL_FILE)\n",
    "tar.extractall()\n",
    "tar.close()\n",
    "\n",
    "os.remove(MODEL_FILE)\n",
    "os.rename(MODEL_NAME, os.path.join(MODELS_DIR, MODEL_NAME))"
   ]
  },
  {
   "cell_type": "markdown",
   "metadata": {
    "colab_type": "text",
    "id": "ocHXXIS_qL8k"
   },
   "source": [
    "# Train the model "
   ]
  },
  {
   "cell_type": "code",
   "execution_count": null,
   "metadata": {
    "colab": {},
    "colab_type": "code",
    "id": "BepcuioljGUM"
   },
   "outputs": [],
   "source": [
    "FINE_TUNED_DIR = os.path.join(MODELS_DIR, 'fine_tuned')\n",
    "\n",
    "if not os.path.isdir(FINE_TUNED_DIR):\n",
    "  os.makedirs(FINE_TUNED_DIR)\n",
    "\n",
    "!python object_detection/model_main.py \\\n",
    "        --pipeline_config_path=config/ssd_mobilenet_v1.config \\\n",
    "        --model_dir=models/fine_tuned/ssd_mobilenet \\"
   ]
  },
  {
   "cell_type": "code",
   "execution_count": null,
   "metadata": {
    "colab": {},
    "colab_type": "code",
    "id": "LGc-h98J0eH-"
   },
   "outputs": [],
   "source": []
  }
 ],
 "metadata": {
  "accelerator": "GPU",
  "colab": {
   "collapsed_sections": [],
   "name": "TrafficLightDetection.ipynb",
   "provenance": [],
   "version": "0.3.2"
  },
  "kernelspec": {
   "display_name": "Python 3",
   "language": "python",
   "name": "python3"
  },
  "language_info": {
   "codemirror_mode": {
    "name": "ipython",
    "version": 3
   },
   "file_extension": ".py",
   "mimetype": "text/x-python",
   "name": "python",
   "nbconvert_exporter": "python",
   "pygments_lexer": "ipython3",
   "version": "3.6.7"
  }
 },
 "nbformat": 4,
 "nbformat_minor": 1
}
